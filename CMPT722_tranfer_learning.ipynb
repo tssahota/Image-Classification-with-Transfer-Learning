{
  "nbformat": 4,
  "nbformat_minor": 0,
  "metadata": {
    "kernelspec": {
      "display_name": "Python 3",
      "language": "python",
      "name": "python3"
    },
    "language_info": {
      "codemirror_mode": {
        "name": "ipython",
        "version": 3
      },
      "file_extension": ".py",
      "mimetype": "text/x-python",
      "name": "python",
      "nbconvert_exporter": "python",
      "pygments_lexer": "ipython3",
      "version": "3.7.6"
    },
    "colab": {
      "name": "tranfer_learning.ipynb",
      "provenance": [],
      "collapsed_sections": []
    }
  },
  "cells": [
    {
      "cell_type": "markdown",
      "metadata": {
        "id": "O36jXVc2Kxi7"
      },
      "source": [
        "# **Transfer Learning for Image Classification**\n",
        "\n",
        "\n"
      ]
    },
    {
      "cell_type": "code",
      "metadata": {
        "id": "7nRiI4yGAPJ8"
      },
      "source": [
        "from keras.applications.resnet50 import ResNet50\n",
        "from tensorflow.python.keras.models import Sequential, Model\n",
        "from tensorflow.python.keras.layers import Dense, GlobalAveragePooling2D\n",
        "from keras.applications.resnet50 import preprocess_input\n",
        "from tensorflow.python.keras.preprocessing.image import ImageDataGenerator\n",
        "import matplotlib.pyplot as plt\n",
        "from keras.models import Sequential\n",
        "from keras.layers import Dense, Conv2D, MaxPooling2D\n",
        "from keras.layers import Dropout, Flatten, GlobalAveragePooling2D"
      ],
      "execution_count": 1,
      "outputs": []
    },
    {
      "cell_type": "markdown",
      "metadata": {
        "id": "pG1WOmA_LDC2"
      },
      "source": [
        "### **Load Data**"
      ]
    },
    {
      "cell_type": "code",
      "metadata": {
        "colab": {
          "base_uri": "https://localhost:8080/"
        },
        "id": "Uwj5KZthJCBt",
        "outputId": "cba5c9bf-9ca6-4802-b760-86cd8f5f560b"
      },
      "source": [
        "# Defining train and validation generators\n",
        "image_size = 224\n",
        "data_generator = ImageDataGenerator(preprocessing_function=preprocess_input)\n",
        "\n",
        "\n",
        "train_generator = data_generator.flow_from_directory(\n",
        "        '/content/drive/MyDrive/Colab Notebooks/fruits/train',\n",
        "        target_size=(image_size, image_size),\n",
        "        batch_size=10,\n",
        "        class_mode='categorical')\n",
        "\n",
        "validation_generator = data_generator.flow_from_directory(\n",
        "        '/content/drive/MyDrive/Colab Notebooks/fruits/test',\n",
        "        target_size=(image_size, image_size),\n",
        "        class_mode='categorical')"
      ],
      "execution_count": 2,
      "outputs": [
        {
          "output_type": "stream",
          "text": [
            "Found 1500 images belonging to 5 classes.\n",
            "Found 500 images belonging to 5 classes.\n"
          ],
          "name": "stdout"
        }
      ]
    },
    {
      "cell_type": "markdown",
      "metadata": {
        "id": "sUAdfTztb5ud"
      },
      "source": [
        "### **Simple Image Classification Model**"
      ]
    },
    {
      "cell_type": "code",
      "metadata": {
        "colab": {
          "base_uri": "https://localhost:8080/"
        },
        "id": "7Co0JvY8IORD",
        "outputId": "0b7b2116-1693-4c12-b9f9-f9518f251e94"
      },
      "source": [
        "#Building up a Sequential model\n",
        "model = Sequential()\n",
        "model.add(Conv2D(32, (3, 3), activation='relu',input_shape = (224,224,3)))\n",
        "model.add(MaxPooling2D(pool_size=(2, 2)))\n",
        "\n",
        "model.add(Conv2D(32, (3, 3), activation='relu'))\n",
        "model.add(MaxPooling2D(pool_size=(2, 2)))\n",
        "\n",
        "model.add(Conv2D(64, (3, 3), activation='relu'))\n",
        "model.add(MaxPooling2D(pool_size=(2, 2)))\n",
        "\n",
        "model.add(GlobalAveragePooling2D())\n",
        "model.add(Dense(5, activation='softmax'))\n",
        "model.summary()"
      ],
      "execution_count": 3,
      "outputs": [
        {
          "output_type": "stream",
          "text": [
            "Model: \"sequential\"\n",
            "_________________________________________________________________\n",
            "Layer (type)                 Output Shape              Param #   \n",
            "=================================================================\n",
            "conv2d (Conv2D)              (None, 222, 222, 32)      896       \n",
            "_________________________________________________________________\n",
            "max_pooling2d (MaxPooling2D) (None, 111, 111, 32)      0         \n",
            "_________________________________________________________________\n",
            "conv2d_1 (Conv2D)            (None, 109, 109, 32)      9248      \n",
            "_________________________________________________________________\n",
            "max_pooling2d_1 (MaxPooling2 (None, 54, 54, 32)        0         \n",
            "_________________________________________________________________\n",
            "conv2d_2 (Conv2D)            (None, 52, 52, 64)        18496     \n",
            "_________________________________________________________________\n",
            "max_pooling2d_2 (MaxPooling2 (None, 26, 26, 64)        0         \n",
            "_________________________________________________________________\n",
            "global_average_pooling2d (Gl (None, 64)                0         \n",
            "_________________________________________________________________\n",
            "dense (Dense)                (None, 5)                 325       \n",
            "=================================================================\n",
            "Total params: 28,965\n",
            "Trainable params: 28,965\n",
            "Non-trainable params: 0\n",
            "_________________________________________________________________\n"
          ],
          "name": "stdout"
        }
      ]
    },
    {
      "cell_type": "code",
      "metadata": {
        "colab": {
          "base_uri": "https://localhost:8080/"
        },
        "id": "9sxWs-DsP7FY",
        "outputId": "3393bb3a-f309-4f15-93b9-896be454d2aa"
      },
      "source": [
        "model.compile(loss='binary_crossentropy', optimizer='sgd',\n",
        "              metrics=['accuracy'])\n",
        "#model.fit(X_train, y_train, batch_size=32, epochs=10, \n",
        "#          verbose=1, callbacks=[checkpointer], validation_split=0.2, shuffle=True)\n",
        "# Fitting the model\n",
        "model_with_aug = model.fit(\n",
        "        train_generator,\n",
        "        steps_per_epoch=30,\n",
        "        epochs=10,\n",
        "        validation_data=validation_generator,\n",
        "        validation_steps=10)"
      ],
      "execution_count": 7,
      "outputs": [
        {
          "output_type": "stream",
          "text": [
            "Epoch 1/10\n",
            "30/30 [==============================] - 25s 818ms/step - loss: 0.4313 - accuracy: 0.4488 - val_loss: 0.4467 - val_accuracy: 0.3844\n",
            "Epoch 2/10\n",
            "30/30 [==============================] - 25s 824ms/step - loss: 0.4153 - accuracy: 0.4403 - val_loss: 0.4237 - val_accuracy: 0.4906\n",
            "Epoch 3/10\n",
            "30/30 [==============================] - 24s 809ms/step - loss: 0.4182 - accuracy: 0.4643 - val_loss: 0.4245 - val_accuracy: 0.4469\n",
            "Epoch 4/10\n",
            "30/30 [==============================] - 24s 810ms/step - loss: 0.3954 - accuracy: 0.5116 - val_loss: 0.4247 - val_accuracy: 0.4469\n",
            "Epoch 5/10\n",
            "30/30 [==============================] - 24s 813ms/step - loss: 0.4116 - accuracy: 0.4394 - val_loss: 0.4518 - val_accuracy: 0.4187\n",
            "Epoch 6/10\n",
            "30/30 [==============================] - 24s 804ms/step - loss: 0.4139 - accuracy: 0.4771 - val_loss: 0.4253 - val_accuracy: 0.4406\n",
            "Epoch 7/10\n",
            "30/30 [==============================] - 24s 805ms/step - loss: 0.4274 - accuracy: 0.4299 - val_loss: 0.4078 - val_accuracy: 0.4688\n",
            "Epoch 8/10\n",
            "30/30 [==============================] - 24s 810ms/step - loss: 0.3949 - accuracy: 0.5400 - val_loss: 0.4718 - val_accuracy: 0.3844\n",
            "Epoch 9/10\n",
            "30/30 [==============================] - 24s 809ms/step - loss: 0.4244 - accuracy: 0.4786 - val_loss: 0.4198 - val_accuracy: 0.4750\n",
            "Epoch 10/10\n",
            "30/30 [==============================] - 24s 814ms/step - loss: 0.4090 - accuracy: 0.5258 - val_loss: 0.4112 - val_accuracy: 0.5000\n"
          ],
          "name": "stdout"
        }
      ]
    },
    {
      "cell_type": "markdown",
      "metadata": {
        "id": "5SRS-naWc5W_"
      },
      "source": [
        "### **Image Classification Model using Transfer Learning**"
      ]
    },
    {
      "cell_type": "code",
      "metadata": {
        "id": "1RB9fl5HAPJ_"
      },
      "source": [
        "# Resnet50 Model with pretrained weights\n",
        "num_classes = 5\n",
        "\n",
        "model_tl = Sequential()\n",
        "model_tl.add(ResNet50(include_top=False, pooling='avg', weights='imagenet'))\n",
        "model_tl.add(Dense(num_classes, activation='softmax'))\n",
        "\n",
        "# Not Training RestNet50 layer to freeze the weights\n",
        "model_tl.layers[0].trainable = False\n",
        "\n",
        "model_tl.compile(optimizer='sgd', loss='categorical_crossentropy', metrics=['accuracy'])"
      ],
      "execution_count": 8,
      "outputs": []
    },
    {
      "cell_type": "code",
      "metadata": {
        "colab": {
          "base_uri": "https://localhost:8080/"
        },
        "id": "cpao5J5TAPKC",
        "outputId": "3fd5fb29-b016-46f1-8c2f-f4c5c78d6f19"
      },
      "source": [
        "# Fitting the model\n",
        "model_with_TL = model_tl.fit(\n",
        "        train_generator,\n",
        "        steps_per_epoch=30,\n",
        "        epochs=10,\n",
        "        validation_data=validation_generator,\n",
        "        validation_steps=10)\n"
      ],
      "execution_count": 9,
      "outputs": [
        {
          "output_type": "stream",
          "text": [
            "Epoch 1/10\n",
            "30/30 [==============================] - 104s 3s/step - loss: 1.5436 - accuracy: 0.4686 - val_loss: 0.6748 - val_accuracy: 0.7563\n",
            "Epoch 2/10\n",
            "30/30 [==============================] - 100s 3s/step - loss: 0.7871 - accuracy: 0.6920 - val_loss: 0.4881 - val_accuracy: 0.8250\n",
            "Epoch 3/10\n",
            "30/30 [==============================] - 99s 3s/step - loss: 0.4590 - accuracy: 0.8315 - val_loss: 0.4712 - val_accuracy: 0.8219\n",
            "Epoch 4/10\n",
            "30/30 [==============================] - 100s 3s/step - loss: 0.4994 - accuracy: 0.8274 - val_loss: 0.4844 - val_accuracy: 0.8125\n",
            "Epoch 5/10\n",
            "30/30 [==============================] - 100s 3s/step - loss: 0.3914 - accuracy: 0.8530 - val_loss: 0.3816 - val_accuracy: 0.8500\n",
            "Epoch 6/10\n",
            "30/30 [==============================] - 100s 3s/step - loss: 0.3881 - accuracy: 0.8725 - val_loss: 0.3499 - val_accuracy: 0.8719\n",
            "Epoch 7/10\n",
            "30/30 [==============================] - 99s 3s/step - loss: 0.2824 - accuracy: 0.9159 - val_loss: 0.3246 - val_accuracy: 0.8844\n",
            "Epoch 8/10\n",
            "30/30 [==============================] - 99s 3s/step - loss: 0.3474 - accuracy: 0.8716 - val_loss: 0.3296 - val_accuracy: 0.8844\n",
            "Epoch 9/10\n",
            "30/30 [==============================] - 99s 3s/step - loss: 0.3244 - accuracy: 0.8827 - val_loss: 0.3431 - val_accuracy: 0.8844\n",
            "Epoch 10/10\n",
            "30/30 [==============================] - 99s 3s/step - loss: 0.3097 - accuracy: 0.8889 - val_loss: 0.3365 - val_accuracy: 0.8562\n"
          ],
          "name": "stdout"
        }
      ]
    },
    {
      "cell_type": "markdown",
      "metadata": {
        "id": "RSPz8ogNdoqu"
      },
      "source": [
        "### **Plotting Loss and Accuracy** **bold text**"
      ]
    },
    {
      "cell_type": "code",
      "metadata": {
        "colab": {
          "base_uri": "https://localhost:8080/",
          "height": 448
        },
        "id": "bdTCedRcAPKo",
        "outputId": "4757a727-ead3-4c15-efd7-5bc612f57c1e"
      },
      "source": [
        "# Accuracy Plot\n",
        "fig, axes = plt.subplots(1,2,figsize=(20,8))\n",
        "axes[0].plot(model_with_TL.history['val_accuracy'])\n",
        "axes[0].plot(model_with_aug.history['val_accuracy'])\n",
        "axes[0].set(title = 'Model Accuracy', ylabel = 'Accuracy', xlabel='Epoch')\n",
        "axes[0].legend(['Transfer Learning', 'Simple'], loc='upper left')\n",
        "\n",
        "# Loss Plot\n",
        "axes[1].plot(model_with_TL.history['val_loss'])\n",
        "axes[1].plot(model_with_aug.history['val_loss'])\n",
        "axes[1].set(title='Model Loss', ylabel='Loss',xlabel='Epoch')\n",
        "axes[1].legend(['Transfer Learning', 'Simple'], loc='upper right')\n",
        "plt.show()"
      ],
      "execution_count": 30,
      "outputs": [
        {
          "output_type": "display_data",
          "data": {
            "image/png": "[encoded data removed]",
            "text/plain": [
              "<Figure size 1440x576 with 2 Axes>"
            ]
          },
          "metadata": {
            "tags": [],
            "needs_background": "light"
          }
        }
      ]
    },
    {
      "cell_type": "code",
      "metadata": {
        "id": "b8rsYneCAPKq"
      },
      "source": [
        ""
      ],
      "execution_count": null,
      "outputs": []
    }
  ]
}